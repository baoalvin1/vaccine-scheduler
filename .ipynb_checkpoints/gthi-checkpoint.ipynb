{
 "cells": [
  {
   "cell_type": "code",
   "execution_count": 99,
   "metadata": {
    "colab": {
     "base_uri": "https://localhost:8080/"
    },
    "executionInfo": {
     "elapsed": 94349,
     "status": "ok",
     "timestamp": 1611434275415,
     "user": {
      "displayName": "Keshav Shenoy",
      "photoUrl": "https://lh3.googleusercontent.com/a-/AOh14Gjyu79Wi8FJBIM_mdN8OIxb3MFIjTkmTC4dGsS2GA=s64",
      "userId": "13980994441859905129"
     },
     "user_tz": 300
    },
    "id": "Ydhh6W8elhSk",
    "outputId": "e694eb4f-2329-4039-dc48-bba4bf8d5c83"
   },
   "outputs": [
    {
     "name": "stderr",
     "output_type": "stream",
     "text": [
      "/usr/local/lib/python3.6/dist-packages/IPython/core/interactiveshell.py:2718: DtypeWarning: Columns (1,2,9,10,12,13,14,15,16,17,19,20,21,22,23,24,25,26,27,31,32) have mixed types.Specify dtype option on import or set low_memory=False.\n",
      "  interactivity=interactivity, compiler=compiler, result=result)\n"
     ]
    },
    {
     "name": "stdout",
     "output_type": "stream",
     "text": [
      "---Get Rid of Hyphens---\n"
     ]
    },
    {
     "name": "stderr",
     "output_type": "stream",
     "text": [
      "/usr/local/lib/python3.6/dist-packages/ipykernel_launcher.py:20: SettingWithCopyWarning: \n",
      "A value is trying to be set on a copy of a slice from a DataFrame\n",
      "\n",
      "See the caveats in the documentation: https://pandas.pydata.org/pandas-docs/stable/user_guide/indexing.html#returning-a-view-versus-a-copy\n",
      "/usr/local/lib/python3.6/dist-packages/ipykernel_launcher.py:22: SettingWithCopyWarning: \n",
      "A value is trying to be set on a copy of a slice from a DataFrame\n",
      "\n",
      "See the caveats in the documentation: https://pandas.pydata.org/pandas-docs/stable/user_guide/indexing.html#returning-a-view-versus-a-copy\n"
     ]
    },
    {
     "name": "stdout",
     "output_type": "stream",
     "text": [
      "---Get Rid of Floating Points---\n",
      "0.5\n"
     ]
    },
    {
     "name": "stderr",
     "output_type": "stream",
     "text": [
      "/usr/local/lib/python3.6/dist-packages/ipykernel_launcher.py:36: SettingWithCopyWarning: \n",
      "A value is trying to be set on a copy of a slice from a DataFrame\n",
      "\n",
      "See the caveats in the documentation: https://pandas.pydata.org/pandas-docs/stable/user_guide/indexing.html#returning-a-view-versus-a-copy\n",
      "/usr/local/lib/python3.6/dist-packages/ipykernel_launcher.py:39: SettingWithCopyWarning: \n",
      "A value is trying to be set on a copy of a slice from a DataFrame\n",
      "\n",
      "See the caveats in the documentation: https://pandas.pydata.org/pandas-docs/stable/user_guide/indexing.html#returning-a-view-versus-a-copy\n"
     ]
    },
    {
     "name": "stdout",
     "output_type": "stream",
     "text": [
      "0.25\n",
      "0.75\n",
      "0.25\n",
      "1.5\n",
      "0.4\n",
      "0.3\n",
      "1.5\n",
      "2.5\n",
      "0.2\n",
      "0.2\n",
      "0.7\n",
      "0.3\n",
      "29.6\n",
      "0.1\n",
      "0.1\n",
      "3.5\n",
      "0.1\n",
      "2.5\n",
      "3.5\n",
      "0.5\n",
      "0.2\n",
      "2.5\n",
      "0.5\n",
      "0.9\n",
      "1.5\n",
      "1.5\n",
      "1.5\n",
      "0.5\n",
      "0.25\n",
      "0.1\n",
      "0.1\n",
      "1.5\n",
      "0.9\n",
      "0.1\n",
      "0.1\n",
      "2.5\n",
      "3.5\n",
      "1.5\n",
      "0.7\n",
      "0.1\n",
      "0.5\n",
      "0.1\n",
      "0.1\n",
      "1.5\n",
      "2.5\n",
      "0.1\n",
      "54.9\n",
      "0.7\n",
      "0.1\n",
      "0.1\n",
      "0.6\n",
      "0.3\n",
      "---Check For Failures---\n"
     ]
    },
    {
     "name": "stderr",
     "output_type": "stream",
     "text": [
      "/usr/local/lib/python3.6/dist-packages/ipykernel_launcher.py:62: SettingWithCopyWarning: \n",
      "A value is trying to be set on a copy of a slice from a DataFrame\n",
      "\n",
      "See the caveats in the documentation: https://pandas.pydata.org/pandas-docs/stable/user_guide/indexing.html#returning-a-view-versus-a-copy\n",
      "/usr/local/lib/python3.6/dist-packages/ipykernel_launcher.py:64: SettingWithCopyWarning: \n",
      "A value is trying to be set on a copy of a slice from a DataFrame\n",
      "\n",
      "See the caveats in the documentation: https://pandas.pydata.org/pandas-docs/stable/user_guide/indexing.html#returning-a-view-versus-a-copy\n",
      "/usr/local/lib/python3.6/dist-packages/ipykernel_launcher.py:79: SettingWithCopyWarning: \n",
      "A value is trying to be set on a copy of a slice from a DataFrame\n",
      "\n",
      "See the caveats in the documentation: https://pandas.pydata.org/pandas-docs/stable/user_guide/indexing.html#returning-a-view-versus-a-copy\n",
      "/usr/local/lib/python3.6/dist-packages/ipykernel_launcher.py:97: SettingWithCopyWarning: \n",
      "A value is trying to be set on a copy of a slice from a DataFrame\n",
      "\n",
      "See the caveats in the documentation: https://pandas.pydata.org/pandas-docs/stable/user_guide/indexing.html#returning-a-view-versus-a-copy\n",
      "/usr/local/lib/python3.6/dist-packages/ipykernel_launcher.py:100: SettingWithCopyWarning: \n",
      "A value is trying to be set on a copy of a slice from a DataFrame\n",
      "\n",
      "See the caveats in the documentation: https://pandas.pydata.org/pandas-docs/stable/user_guide/indexing.html#returning-a-view-versus-a-copy\n",
      "/usr/local/lib/python3.6/dist-packages/ipykernel_launcher.py:104: SettingWithCopyWarning: \n",
      "A value is trying to be set on a copy of a slice from a DataFrame\n",
      "\n",
      "See the caveats in the documentation: https://pandas.pydata.org/pandas-docs/stable/user_guide/indexing.html#returning-a-view-versus-a-copy\n",
      "/usr/local/lib/python3.6/dist-packages/ipykernel_launcher.py:106: SettingWithCopyWarning: \n",
      "A value is trying to be set on a copy of a slice from a DataFrame\n",
      "\n",
      "See the caveats in the documentation: https://pandas.pydata.org/pandas-docs/stable/user_guide/indexing.html#returning-a-view-versus-a-copy\n",
      "/usr/local/lib/python3.6/dist-packages/ipykernel_launcher.py:116: SettingWithCopyWarning: \n",
      "A value is trying to be set on a copy of a slice from a DataFrame\n",
      "\n",
      "See the caveats in the documentation: https://pandas.pydata.org/pandas-docs/stable/user_guide/indexing.html#returning-a-view-versus-a-copy\n"
     ]
    }
   ],
   "source": [
    "import pandas as pd\n",
    "import numpy as np\n",
    "\n",
    "cutUp = pd.read_csv(\"latestdata.csv\")\n",
    "cutUp.dropna(subset=['outcome'], inplace=True)\n",
    "cutUp.dropna(subset=['age'], inplace=True)\n",
    "cutUp.dropna(subset=['sex'], inplace=True)\n",
    "cutUp.dropna(subset=['chronic_disease_binary'], inplace=True)\n",
    "\n",
    "sum = 0\n",
    "\n",
    "print(\"---Get Rid of Hyphens---\")\n",
    "\n",
    "# get rid of hyphens\n",
    "for i in range(1, 1000000):\n",
    "    try:\n",
    "        if (type(cutUp['age'][i]) is str):\n",
    "            po = cutUp['age'][i]\n",
    "            if '-' in po:\n",
    "                cutUp['age'][i] = po[0:(po.index('-'))]\n",
    "        if (type(cutUp['age'][i]) is float):\n",
    "            cutUp['age'][i] = int(po)\n",
    "    except KeyError:\n",
    "        sum+=1\n",
    "\n",
    "print(\"---Get Rid of Floating Points---\")\n",
    "\n",
    "#get rid of floatpoints\n",
    "for i in range(1, 1000000):\n",
    "    try:\n",
    "        if (type(cutUp['age'][i]) is not str):\n",
    "            if (type(cutUp['age'][i]) is not int):\n",
    "                cutUp['age'][i] = int(cutUp['age'][i])\n",
    "        else:\n",
    "            try:\n",
    "                cutUp['age'][i] = int(cutUp['age'][i])\n",
    "            except ValueError:\n",
    "                print(cutUp['age'][i])\n",
    "                cutUp['age'][i] =  int(float(cutUp['age'][i]))\n",
    "    except KeyError:\n",
    "        sum+=1\n",
    "\n",
    "print(\"---Check For Failures---\")\n",
    "\n",
    "#check for failures\n",
    "for i in range(1, 1000000):\n",
    "    try:\n",
    "        if (type(cutUp['age'][i]) is not int):\n",
    "            print(str(cutUp['age'][i]) + \" \" + str(i))\n",
    "    except KeyError:\n",
    "        sum+=1\n",
    "\n",
    "cutUp = cutUp.astype({'age': 'int'})\n",
    "\n",
    "#Sex checking\n",
    "\n",
    "for i in range(1, 1000000):\n",
    "    try:\n",
    "        if (type(cutUp['sex'][i]) is not str):\n",
    "            print(str(cutUp['sex'][i]) + \" \" + str(i))\n",
    "        elif (cutUp['sex'][i] == \"male\"):\n",
    "             cutUp['sex'][i] = 0;\n",
    "        elif (cutUp['sex'][i] == \"female\"):\n",
    "            cutUp['sex'][i] = 1;\n",
    "        else:\n",
    "            print(str(cutUp['sex'][i]) + \" \" + str(i))\n",
    "    except KeyError:\n",
    "        sum+=1\n",
    "\n",
    "cutUp = cutUp.astype({'sex': 'int'})\n",
    "\n",
    "# make lower case\n",
    "\n",
    "for i in range(1, 1000000):\n",
    "    try:\n",
    "        if (type(cutUp['outcome'][i]) is not str):\n",
    "            print(str(cutUp['outcome'][i]) + \" \" + str(i))\n",
    "        else:\n",
    "            cutUp['outcome'][i] = cutUp['outcome'][i].lower()\n",
    "    except KeyError:\n",
    "        sum+=1\n",
    "\n",
    "# fixing outcome to floats\n",
    "\n",
    "dict = {}\n",
    "dict[\"die\"] = 0;\n",
    "dict[\"stable\"] = 0;\n",
    "dict[\"other\"] = 0;\n",
    "dict[\"hosp\"] = 0;\n",
    "for i in range(1, 1000000):\n",
    "    try:\n",
    "        if (type(cutUp['outcome'][i]) is not str):\n",
    "            print(str(cutUp['outcome'][i]) + \" \" + str(i))\n",
    "        else:\n",
    "            oc = cutUp['outcome'][i]\n",
    "            if \"decease\" in oc or \"die\" in oc or \"dea\" in oc:\n",
    "                cutUp['outcome'][i] = 1\n",
    "                dict[\"die\"]+=1\n",
    "            elif \"stable\" in oc or \"recover\" in oc or \"alive\" in oc or \"disch\" in oc:\n",
    "                cutUp['outcome'][i] = 0\n",
    "                dict[\"stable\"]+=1\n",
    "            elif \"hosp\" in oc:\n",
    "                dict[\"hosp\"]+=1\n",
    "                cutUp['outcome'][i] = 0.7\n",
    "            else:\n",
    "                cutUp['outcome'][i] = 0.4\n",
    "                dict[\"other\"]+=1\n",
    "    except KeyError:\n",
    "        sum+=1\n",
    "\n",
    "#check outcome for errors and cast from str to float\n",
    "\n",
    "for i in range(1, 1000000):\n",
    "    try:\n",
    "        try:\n",
    "            cutUp['outcome'][i] = float(cutUp['outcome'][i])\n",
    "        except ValueError:\n",
    "            print(str(cutUp['outcome'][i]) + \" \" + str(i))\n",
    "    except KeyError:\n",
    "        sum+=1\n",
    "\n",
    "cutUp = cutUp.astype({'outcome': 'float'})"
   ]
  },
  {
   "cell_type": "code",
   "execution_count": 101,
   "metadata": {
    "colab": {
     "base_uri": "https://localhost:8080/"
    },
    "executionInfo": {
     "elapsed": 385,
     "status": "ok",
     "timestamp": 1611434297097,
     "user": {
      "displayName": "Keshav Shenoy",
      "photoUrl": "https://lh3.googleusercontent.com/a-/AOh14Gjyu79Wi8FJBIM_mdN8OIxb3MFIjTkmTC4dGsS2GA=s64",
      "userId": "13980994441859905129"
     },
     "user_tz": 300
    },
    "id": "q2Yip_kwl5bu",
    "outputId": "c9d5ba5d-bb12-4896-b54d-1283ef40d890"
   },
   "outputs": [
    {
     "data": {
      "text/plain": [
       "0.6224576649504479"
      ]
     },
     "execution_count": 101,
     "metadata": {
      "tags": []
     },
     "output_type": "execute_result"
    }
   ],
   "source": [
    "import statistics\n",
    "statistics.mean(cutUp['outcome'])"
   ]
  },
  {
   "cell_type": "code",
   "execution_count": 102,
   "metadata": {
    "executionInfo": {
     "elapsed": 295,
     "status": "ok",
     "timestamp": 1611434302311,
     "user": {
      "displayName": "Keshav Shenoy",
      "photoUrl": "https://lh3.googleusercontent.com/a-/AOh14Gjyu79Wi8FJBIM_mdN8OIxb3MFIjTkmTC4dGsS2GA=s64",
      "userId": "13980994441859905129"
     },
     "user_tz": 300
    },
    "id": "hES22ZUwzPpx"
   },
   "outputs": [],
   "source": [
    "from sklearn.linear_model import LinearRegression\n",
    "from sklearn.model_selection import train_test_split, cross_val_score\n",
    "from sklearn.metrics import mean_squared_error\n",
    "from sklearn.ensemble import RandomForestRegressor\n",
    "from sklearn.metrics import mean_absolute_error \n",
    "import matplotlib.pyplot as plt\n",
    "from sklearn.metrics import r2_score"
   ]
  },
  {
   "cell_type": "code",
   "execution_count": 117,
   "metadata": {
    "executionInfo": {
     "elapsed": 304,
     "status": "ok",
     "timestamp": 1611435144062,
     "user": {
      "displayName": "Keshav Shenoy",
      "photoUrl": "https://lh3.googleusercontent.com/a-/AOh14Gjyu79Wi8FJBIM_mdN8OIxb3MFIjTkmTC4dGsS2GA=s64",
      "userId": "13980994441859905129"
     },
     "user_tz": 300
    },
    "id": "FtqA84pcz1Yk"
   },
   "outputs": [],
   "source": [
    "dropped = cutUp.drop(columns=['ID', 'city', 'province', 'country', 'latitude', 'longitude', 'geo_resolution', 'date_onset_symptoms', 'date_admission_hospital', 'date_confirmation', 'symptoms'])\n",
    "dropped = dropped.drop(columns=['lives_in_Wuhan', 'travel_history_dates',\t'travel_history_location', 'reported_market_exposure', 'additional_information'])\n",
    "dropped = dropped.drop(columns=['chronic_disease', 'source', 'sequence_available', 'date_death_or_discharge', 'notes_for_discussion', 'location', 'admin3', 'admin2', 'admin1', 'country_new', 'admin_id', 'data_moderator_initials', 'travel_history_binary'])\n",
    "dropped = dropped.astype({'chronic_disease_binary': 'int'})\n",
    "X_dropped = dropped.drop(columns = ['outcome'])\n",
    "Y_dropped = dropped.drop(columns = ['age', 'sex', 'chronic_disease_binary'])"
   ]
  },
  {
   "cell_type": "code",
   "execution_count": 104,
   "metadata": {
    "colab": {
     "base_uri": "https://localhost:8080/"
    },
    "executionInfo": {
     "elapsed": 325,
     "status": "ok",
     "timestamp": 1611434306163,
     "user": {
      "displayName": "Keshav Shenoy",
      "photoUrl": "https://lh3.googleusercontent.com/a-/AOh14Gjyu79Wi8FJBIM_mdN8OIxb3MFIjTkmTC4dGsS2GA=s64",
      "userId": "13980994441859905129"
     },
     "user_tz": 300
    },
    "id": "Bm_Y0d7u3TLD",
    "outputId": "abf8936e-0f66-4e29-ce84-9bbc70bf2ae4"
   },
   "outputs": [
    {
     "name": "stdout",
     "output_type": "stream",
     "text": [
      "(26880, 3)\n",
      "(6721, 3)\n",
      "(26880, 1)\n",
      "(6721, 1)\n"
     ]
    }
   ],
   "source": [
    "X_train, X_test, Y_train, Y_test = train_test_split(X_dropped, Y_dropped, test_size = 0.2, random_state=5)\n",
    "print(X_train.shape)\n",
    "print(X_test.shape)\n",
    "print(Y_train.shape)\n",
    "print(Y_test.shape)"
   ]
  },
  {
   "cell_type": "code",
   "execution_count": 118,
   "metadata": {
    "colab": {
     "base_uri": "https://localhost:8080/",
     "height": 419
    },
    "executionInfo": {
     "elapsed": 385,
     "status": "ok",
     "timestamp": 1611435146240,
     "user": {
      "displayName": "Keshav Shenoy",
      "photoUrl": "https://lh3.googleusercontent.com/a-/AOh14Gjyu79Wi8FJBIM_mdN8OIxb3MFIjTkmTC4dGsS2GA=s64",
      "userId": "13980994441859905129"
     },
     "user_tz": 300
    },
    "id": "_U7SJR4P38iw",
    "outputId": "04cc76e8-68ce-4b85-9a24-6e3f79ab3fea"
   },
   "outputs": [
    {
     "data": {
      "text/html": [
       "<div>\n",
       "<style scoped>\n",
       "    .dataframe tbody tr th:only-of-type {\n",
       "        vertical-align: middle;\n",
       "    }\n",
       "\n",
       "    .dataframe tbody tr th {\n",
       "        vertical-align: top;\n",
       "    }\n",
       "\n",
       "    .dataframe thead th {\n",
       "        text-align: right;\n",
       "    }\n",
       "</style>\n",
       "<table border=\"1\" class=\"dataframe\">\n",
       "  <thead>\n",
       "    <tr style=\"text-align: right;\">\n",
       "      <th></th>\n",
       "      <th>age</th>\n",
       "      <th>sex</th>\n",
       "      <th>chronic_disease_binary</th>\n",
       "    </tr>\n",
       "  </thead>\n",
       "  <tbody>\n",
       "    <tr>\n",
       "      <th>1</th>\n",
       "      <td>78</td>\n",
       "      <td>0</td>\n",
       "      <td>0</td>\n",
       "    </tr>\n",
       "    <tr>\n",
       "      <th>2</th>\n",
       "      <td>61</td>\n",
       "      <td>1</td>\n",
       "      <td>0</td>\n",
       "    </tr>\n",
       "    <tr>\n",
       "      <th>113</th>\n",
       "      <td>28</td>\n",
       "      <td>0</td>\n",
       "      <td>0</td>\n",
       "    </tr>\n",
       "    <tr>\n",
       "      <th>224</th>\n",
       "      <td>56</td>\n",
       "      <td>1</td>\n",
       "      <td>0</td>\n",
       "    </tr>\n",
       "    <tr>\n",
       "      <th>335</th>\n",
       "      <td>79</td>\n",
       "      <td>1</td>\n",
       "      <td>0</td>\n",
       "    </tr>\n",
       "    <tr>\n",
       "      <th>...</th>\n",
       "      <td>...</td>\n",
       "      <td>...</td>\n",
       "      <td>...</td>\n",
       "    </tr>\n",
       "    <tr>\n",
       "      <th>670224</th>\n",
       "      <td>80</td>\n",
       "      <td>1</td>\n",
       "      <td>0</td>\n",
       "    </tr>\n",
       "    <tr>\n",
       "      <th>672529</th>\n",
       "      <td>60</td>\n",
       "      <td>0</td>\n",
       "      <td>0</td>\n",
       "    </tr>\n",
       "    <tr>\n",
       "      <th>672651</th>\n",
       "      <td>90</td>\n",
       "      <td>1</td>\n",
       "      <td>0</td>\n",
       "    </tr>\n",
       "    <tr>\n",
       "      <th>672674</th>\n",
       "      <td>70</td>\n",
       "      <td>0</td>\n",
       "      <td>0</td>\n",
       "    </tr>\n",
       "    <tr>\n",
       "      <th>673607</th>\n",
       "      <td>50</td>\n",
       "      <td>0</td>\n",
       "      <td>0</td>\n",
       "    </tr>\n",
       "  </tbody>\n",
       "</table>\n",
       "<p>33601 rows × 3 columns</p>\n",
       "</div>"
      ],
      "text/plain": [
       "        age  sex  chronic_disease_binary\n",
       "1        78    0                       0\n",
       "2        61    1                       0\n",
       "113      28    0                       0\n",
       "224      56    1                       0\n",
       "335      79    1                       0\n",
       "...     ...  ...                     ...\n",
       "670224   80    1                       0\n",
       "672529   60    0                       0\n",
       "672651   90    1                       0\n",
       "672674   70    0                       0\n",
       "673607   50    0                       0\n",
       "\n",
       "[33601 rows x 3 columns]"
      ]
     },
     "execution_count": 118,
     "metadata": {
      "tags": []
     },
     "output_type": "execute_result"
    }
   ],
   "source": [
    "X_dropped"
   ]
  },
  {
   "cell_type": "code",
   "execution_count": 107,
   "metadata": {
    "colab": {
     "base_uri": "https://localhost:8080/",
     "height": 401
    },
    "executionInfo": {
     "elapsed": 1512,
     "status": "ok",
     "timestamp": 1611434319493,
     "user": {
      "displayName": "Keshav Shenoy",
      "photoUrl": "https://lh3.googleusercontent.com/a-/AOh14Gjyu79Wi8FJBIM_mdN8OIxb3MFIjTkmTC4dGsS2GA=s64",
      "userId": "13980994441859905129"
     },
     "user_tz": 300
    },
    "id": "Qx-BM5v36QCr",
    "outputId": "60b3e6de-521d-4a8c-81c2-c379ac414270"
   },
   "outputs": [
    {
     "name": "stderr",
     "output_type": "stream",
     "text": [
      "/usr/local/lib/python3.6/dist-packages/ipykernel_launcher.py:2: DataConversionWarning: A column-vector y was passed when a 1d array was expected. Please change the shape of y to (n_samples,), for example using ravel().\n",
      "  \n"
     ]
    },
    {
     "name": "stdout",
     "output_type": "stream",
     "text": [
      "Random Forest Regressor\n",
      "R^2:  0.022513872452542993\n",
      "MAE:  0.15638726553502666\n"
     ]
    },
    {
     "data": {
      "text/plain": [
       "Text(0, 0.5, 'Predictions')"
      ]
     },
     "execution_count": 107,
     "metadata": {
      "tags": []
     },
     "output_type": "execute_result"
    },
    {
     "data": {
      "image/png": "[encoded data removed]",
      "text/plain": [
       "<Figure size 432x288 with 1 Axes>"
      ]
     },
     "metadata": {
      "needs_background": "light",
      "tags": []
     },
     "output_type": "display_data"
    }
   ],
   "source": [
    "model = RandomForestRegressor()\n",
    "model.fit(X_train,Y_train)\n",
    "\n",
    "predictions2 = model.predict(X_test)\n",
    "\n",
    "print(\"Random Forest Regressor\")\n",
    "print(\"R^2: \", r2_score(Y_test, predictions2, multioutput='variance_weighted'))\n",
    "print(\"MAE: \", mean_absolute_error(Y_test, predictions2))\n",
    "#print(\"R^2: \", r2_score(val3, bam, multioutput='variance_weighted'))\n",
    "#print(\"MAE: \", mean_absolute_error(val3, bam))\n",
    "\n",
    "#plt.scatter(val3, bam)\n",
    "plt.scatter(Y_test, predictions2)\n",
    "plt.xlabel(\"True Values\")\n",
    "plt.ylabel(\"Predictions\")"
   ]
  },
  {
   "cell_type": "code",
   "execution_count": null,
   "metadata": {
    "id": "R7RPz7D1_Ybg"
   },
   "outputs": [],
   "source": [
    "from keras.callbacks import ModelCheckpoint\n",
    "from keras.models import Sequential\n",
    "from keras.layers import Dense, Activation, Flatten, Dropout\n",
    "\n",
    "NN_model = Sequential()\n",
    "\n",
    "# The Input Layer :\n",
    "#NN_model.add(Dropout(0.2, input_shape=(data.shape[1],)))\n",
    "NN_model.add(Dense(128, kernel_initializer='normal',input_dim = X_train.shape[1], activation='relu'))\n",
    "#NN_model.add(Dense(128, kernel_initializer='normal', activation='relu'))\n",
    "\n",
    "# The Hidden Layers :\n",
    "NN_model.add(Dense(256, kernel_initializer='normal',activation='relu'))\n",
    "NN_model.add(Dense(256, kernel_initializer='normal',activation='relu'))\n",
    "NN_model.add(Dense(256, kernel_initializer='normal',activation='relu'))\n",
    "\n",
    "# The Output Layer :\n",
    "NN_model.add(Dense(1, kernel_initializer='normal',activation='linear'))\n",
    "\n",
    "# Compile the network :\n",
    "NN_model.compile(loss='mean_absolute_error', optimizer='adam', metrics=['mean_absolute_error'])\n",
    "NN_model.summary()\n",
    "\n",
    "checkpoint_name = 'Weights-{epoch:03d}--{val_loss:.5f}.hdf5' \n",
    "checkpoint = ModelCheckpoint(checkpoint_name, monitor='val_loss', verbose = 1, mode ='auto', save_best_only=True)\n",
    "callbacks_list = [checkpoint]\n",
    "\n",
    "NN_model.fit(X_dropped, Y_dropped, epochs=500, batch_size=32, validation_split = 0.2, callbacks=callbacks_list)"
   ]
  },
  {
   "cell_type": "code",
   "execution_count": 127,
   "metadata": {
    "executionInfo": {
     "elapsed": 263,
     "status": "ok",
     "timestamp": 1611437826566,
     "user": {
      "displayName": "Keshav Shenoy",
      "photoUrl": "https://lh3.googleusercontent.com/a-/AOh14Gjyu79Wi8FJBIM_mdN8OIxb3MFIjTkmTC4dGsS2GA=s64",
      "userId": "13980994441859905129"
     },
     "user_tz": 300
    },
    "id": "Qp91XwUO_lMH"
   },
   "outputs": [],
   "source": [
    "data = X_dropped"
   ]
  },
  {
   "cell_type": "code",
   "execution_count": 132,
   "metadata": {
    "colab": {
     "base_uri": "https://localhost:8080/",
     "height": 412
    },
    "executionInfo": {
     "elapsed": 1836,
     "status": "ok",
     "timestamp": 1611437944979,
     "user": {
      "displayName": "Keshav Shenoy",
      "photoUrl": "https://lh3.googleusercontent.com/a-/AOh14Gjyu79Wi8FJBIM_mdN8OIxb3MFIjTkmTC4dGsS2GA=s64",
      "userId": "13980994441859905129"
     },
     "user_tz": 300
    },
    "id": "mIT93PN2EHn6",
    "outputId": "34bf5080-c321-4288-dc81-5f4f5d9c12df"
   },
   "outputs": [
    {
     "name": "stdout",
     "output_type": "stream",
     "text": [
      "[[0.69999677]\n",
      " [0.69999677]\n",
      " [0.69999677]\n",
      " ...\n",
      " [0.69999677]\n",
      " [0.69999677]\n",
      " [0.6999967 ]]\n"
     ]
    },
    {
     "data": {
      "text/plain": [
       "<matplotlib.collections.PathCollection at 0x7f0ed5ce64e0>"
      ]
     },
     "execution_count": 132,
     "metadata": {
      "tags": []
     },
     "output_type": "execute_result"
    },
    {
     "data": {
      "image/png": "[encoded data removed]",
      "text/plain": [
       "<Figure size 432x288 with 1 Axes>"
      ]
     },
     "metadata": {
      "needs_background": "light",
      "tags": []
     },
     "output_type": "display_data"
    }
   ],
   "source": [
    "# ||| PREDICTING THE RISK\n",
    "# | ||||||||||||||||||||||||||||||||||||||||||||||||||||\n",
    "# |||\n",
    "\n",
    "from keras.callbacks import ModelCheckpoint\n",
    "from keras.models import Sequential\n",
    "from keras.layers import Dense, Activation, Flatten, Dropout\n",
    "\n",
    "NN_model = Sequential()\n",
    "\n",
    "# The Input Layer :\n",
    "#NN_model.add(Dropout(0.2, input_shape=(data.shape[1],)))\n",
    "NN_model.add(Dense(128, kernel_initializer='normal',input_dim = X_test.shape[1], activation='relu'))\n",
    "#NN_model.add(Dense(128, kernel_initializer='normal', activation='relu'))\n",
    "\n",
    "# The Hidden Layers :\n",
    "NN_model.add(Dense(256, kernel_initializer='normal',activation='relu'))\n",
    "NN_model.add(Dense(256, kernel_initializer='normal',activation='relu'))\n",
    "NN_model.add(Dense(256, kernel_initializer='normal',activation='relu'))\n",
    "\n",
    "# The Output Layer :\n",
    "NN_model.add(Dense(1, kernel_initializer='normal',activation='linear'))\n",
    "\n",
    "#\n",
    "data['age'][1] = #REALAGE\n",
    "data['sex'][1] = #REALSEX\n",
    "data['chronic_disease_binary'][1] = #REALAGE\n",
    "\n",
    "weights_file = 'Weights-359--0.36103.hdf5' # choose the best checkpoint \n",
    "NN_model.load_weights(weights_file) # load it\n",
    "NN_model.compile(loss='mean_absolute_error', optimizer='adam', metrics=['mean_absolute_error'])\n",
    "\n",
    "\n",
    "predictions = NN_model.predict(data)\n",
    "\n",
    "#return predictions[0][0]\n"
   ]
  },
  {
   "cell_type": "code",
   "execution_count": 136,
   "metadata": {
    "colab": {
     "base_uri": "https://localhost:8080/"
    },
    "executionInfo": {
     "elapsed": 227,
     "status": "ok",
     "timestamp": 1611438389947,
     "user": {
      "displayName": "Keshav Shenoy",
      "photoUrl": "https://lh3.googleusercontent.com/a-/AOh14Gjyu79Wi8FJBIM_mdN8OIxb3MFIjTkmTC4dGsS2GA=s64",
      "userId": "13980994441859905129"
     },
     "user_tz": 300
    },
    "id": "RXDJxcTCL1XI",
    "outputId": "eac25b9f-7676-436f-a696-e1b4bfec0fef"
   },
   "outputs": [
    {
     "data": {
      "text/plain": [
       "0.69999677"
      ]
     },
     "execution_count": 136,
     "metadata": {
      "tags": []
     },
     "output_type": "execute_result"
    }
   ],
   "source": [
    "predictions[0][0]"
   ]
  }
 ],
 "metadata": {
  "colab": {
   "authorship_tag": "ABX9TyNjNxH5AoMYXllgilMVvcyc",
   "collapsed_sections": [],
   "name": "gthi.ipynb",
   "provenance": []
  },
  "kernelspec": {
   "display_name": "Python 3",
   "language": "python",
   "name": "python3"
  },
  "language_info": {
   "codemirror_mode": {
    "name": "ipython",
    "version": 3
   },
   "file_extension": ".py",
   "mimetype": "text/x-python",
   "name": "python",
   "nbconvert_exporter": "python",
   "pygments_lexer": "ipython3",
   "version": "3.7.7"
  }
 },
 "nbformat": 4,
 "nbformat_minor": 1
}
